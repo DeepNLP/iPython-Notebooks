{
 "cells": [
  {
   "cell_type": "code",
   "execution_count": 1,
   "metadata": {
    "collapsed": true
   },
   "outputs": [],
   "source": [
    "users = [\n",
    "\t\"pset1-vincent\",\n",
    "\t\"pset1-thomas-w\",\n",
    "\t\"pset1-Maxime\",\n",
    "\t\"pset1-matthieu-j\",\n",
    "\t\"pset1-arnaud\",\n",
    "\t\"pset1-massil\",\n",
    "\t\"pset1-anthony\",\n",
    "\t\"pset1-Peter\",\n",
    "\t\"pset1-julien\",\n",
    "]\n"
   ]
  },
  {
   "cell_type": "code",
   "execution_count": 6,
   "metadata": {
    "collapsed": true
   },
   "outputs": [],
   "source": [
    "from random import shuffle\n",
    "shuffle(users)"
   ]
  },
  {
   "cell_type": "code",
   "execution_count": 7,
   "metadata": {
    "collapsed": false
   },
   "outputs": [
    {
     "data": {
      "text/plain": [
       "['pset1-vincent',\n",
       " 'pset1-anthony',\n",
       " 'pset1-arnaud',\n",
       " 'pset1-Peter',\n",
       " 'pset1-julien',\n",
       " 'pset1-massil',\n",
       " 'pset1-matthieu-j',\n",
       " 'pset1-Maxime',\n",
       " 'pset1-thomas-w']"
      ]
     },
     "execution_count": 7,
     "metadata": {},
     "output_type": "execute_result"
    }
   ],
   "source": [
    "users"
   ]
  },
  {
   "cell_type": "code",
   "execution_count": null,
   "metadata": {
    "collapsed": true
   },
   "outputs": [],
   "source": [
    "users"
   ]
  },
  {
   "cell_type": "code",
   "execution_count": 12,
   "metadata": {
    "collapsed": false
   },
   "outputs": [],
   "source": [
    "review_groups = [users[x:x+3] for x in xrange(0, len(users), 3)]\n"
   ]
  },
  {
   "cell_type": "code",
   "execution_count": 13,
   "metadata": {
    "collapsed": false
   },
   "outputs": [
    {
     "data": {
      "text/plain": [
       "[['pset1-vincent', 'pset1-anthony', 'pset1-arnaud'],\n",
       " ['pset1-Peter', 'pset1-julien', 'pset1-massil'],\n",
       " ['pset1-matthieu-j', 'pset1-Maxime', 'pset1-thomas-w']]"
      ]
     },
     "execution_count": 13,
     "metadata": {},
     "output_type": "execute_result"
    }
   ],
   "source": [
    "review_groups"
   ]
  },
  {
   "cell_type": "code",
   "execution_count": null,
   "metadata": {
    "collapsed": true
   },
   "outputs": [],
   "source": []
  }
 ],
 "metadata": {
  "anaconda-cloud": {},
  "kernelspec": {
   "display_name": "Python [conda env:stanford]",
   "language": "python",
   "name": "conda-env-stanford-py"
  },
  "language_info": {
   "codemirror_mode": {
    "name": "ipython",
    "version": 2
   },
   "file_extension": ".py",
   "mimetype": "text/x-python",
   "name": "python",
   "nbconvert_exporter": "python",
   "pygments_lexer": "ipython2",
   "version": "2.7.12"
  }
 },
 "nbformat": 4,
 "nbformat_minor": 1
}
